{
 "cells": [
  {
   "cell_type": "markdown",
   "metadata": {},
   "source": [
    "# Packages & Imports"
   ]
  },
  {
   "cell_type": "code",
   "execution_count": null,
   "metadata": {},
   "outputs": [],
   "source": [
    "!python -m pip install pandas\n",
    "!python -m pip install numpy\n",
    "!python -m pip install matplotlib"
   ]
  },
  {
   "cell_type": "code",
   "execution_count": null,
   "metadata": {},
   "outputs": [],
   "source": [
    "import pandas as pd\n",
    "import numpy as np\n",
    "import matplotlib\n",
    "import matplotlib.pyplot as plt\n",
    "from helios import intensity_estimation"
   ]
  },
  {
   "cell_type": "markdown",
   "metadata": {},
   "source": [
    "# Dataset and Subdivision"
   ]
  },
  {
   "cell_type": "code",
   "execution_count": null,
   "metadata": {},
   "outputs": [],
   "source": [
    "# reading the 04-05 data from the csv\n",
    "df = pd.read_csv('dataset/Solar_flare_RHESSI_2004_05.csv')\n",
    "\n",
    "# changing the month values for the year 2005 (1 = 13, 2 = 14, etc.) to make subdivision simpler later on\n",
    "# in rows where the year value is 2005, add 12 to the month value and replace the old month value\n",
    "df['month'] = np.where((df['year'] == 2005), df['month'] + 12, df['month'])\n",
    "\n",
    "# list that will hold sets of 4 with a two month overlap\n",
    "dfs = []\n",
    "\n",
    "# grouping the data frame by month nummber\n",
    "df_m = df.groupby(['month'])\n",
    "\n",
    "# looping starting at i = 4, in steps of 2, while i < 25\n",
    "# creates an overlap of two months between subsets\n",
    "for i in range(4, 25, 2):\n",
    "    # get groups for i - 3th, i - 2th, i - 1th, and ith months, \n",
    "    # concatenate them into a single data frame, then append this to the dfs list\n",
    "    dfs.append(pd.concat([df_m.get_group(i - 3), df_m.get_group(i - 2), df_m.get_group(i - 1), df_m.get_group(i)]))"
   ]
  },
  {
   "cell_type": "markdown",
   "metadata": {},
   "source": [
    "# Hotspot Discovery"
   ]
  },
  {
   "cell_type": "markdown",
   "metadata": {},
   "source": [
    "## Finding Thresholds `d1` and `d2`"
   ]
  },
  {
   "cell_type": "code",
   "execution_count": null,
   "metadata": {},
   "outputs": [],
   "source": [
    "def thresholds(data):\n",
    "    \"\"\"For each subset of data, get the potential threshold values for hotspots\"\"\"\n",
    "    \n",
    "    ticks = []\n",
    "\n",
    "    # loop through each subset\n",
    "    for set in data:\n",
    "        # append the potential threshold values to the ticks list\n",
    "        # a level value of [0, 0.25, 0.5, 0.75, 1] will return 5 intensity values where each\n",
    "        # corresponds with a probability mass of 0%, 25%, and so on\n",
    "        ticks.append(intensity_estimation(set, plot=True, levels=[0, 0.25, 0.5, 0.75, 1]))\n",
    "    \n",
    "    # numpy mean will get the element-wise mean for all the potential threshold values\n",
    "    # from here, we can select the d1 and d2 threshold values from this list, like t[2] for the med\n",
    "    # hotspots and t[3] for the intense hotspots\n",
    "    t = np.mean(ticks, axis=0)\n",
    "\n",
    "    # returning d2, d1\n",
    "    return (t[2], t[3])\n",
    "\n",
    "def hotspots(data, d2, d1):\n",
    "    # getting the intensity values based on frequency for this data set\n",
    "    intesities = intensity_estimation(data)\n",
    "    # assigning them in a new column in the dataframe\n",
    "    data['intensity.estimation'] = intesities\n",
    "\n",
    "    # new empty array that will contain the classification for the solar flare\n",
    "    intensity_classifications = np.empty(shape=len(data), dtype=np.int32)\n",
    "    # assigning a new column in the dataframe\n",
    "    data['intensity.class'] = intensity_classifications\n",
    "\n",
    "    # classifying each hotspot as either 0: low intensity, 1: medium-high intensity, or 2: high intensity \n",
    "    data['intensity.class'] = np.where((data['intensity.estimation'] < d2 ), 0, data['intensity.class'])\n",
    "    data['intensity.class'] = np.where(((data['intensity.estimation'] >= d2) & (data['intensity.estimation'] < d1)), 1, data['intensity.class'] )\n",
    "    data['intensity.class'] = np.where((data['intensity.estimation'] >= d1 ), 2, data['intensity.class'])\n",
    "\n",
    "    # list of colors for the hotspot plot\n",
    "    colors = ['black','orange','red']\n",
    "\n",
    "    # list of identifiers for the hotspots\n",
    "    hotspot_type = ['low', 'medium-high', 'high']\n",
    "\n",
    "    x = data['x.pos.asec'].values.flatten()\n",
    "    y = data['y.pos.asec'].values.flatten()\n",
    "    c = data['intensity.class'].values.flatten()\n",
    "\n",
    "    plt.figure()\n",
    "    plt.hexbin(x=x, y=y, C=c, cmap=matplotlib.colors.ListedColormap(colors), gridsize=50)\n",
    "    cb = plt.colorbar()\n",
    "    loc = np.arange(0,max(c),max(c)/float(len(colors)))\n",
    "    cb.set_ticks(loc)\n",
    "    cb.set_ticklabels(hotspot_type)\n",
    "    plt.xlabel('x.pos.asec')\n",
    "    plt.ylabel('y.pos.asec')\n",
    "    plt.title(f\"Hotspots for Months {data['month'].min()}-{data['month'].max()}\")\n",
    "    date_range = f\"{data['year'].iloc[0]}_{data['month'].min()}-{data['month'].max()}\"\n",
    "    plt.savefig(f\"./output/hotspots_{date_range}.png\")\n",
    "    plt.show()\n",
    "\n",
    "# example usage\n",
    "\n",
    "# getting the threshold values for the 11 subsets in the 2004-2005 data\n",
    "d2, d1 = thresholds(dfs)\n",
    "\n",
    "# taking a subset of data (months 21-24)\n",
    "flares = dfs[-1]\n",
    "\n",
    "# getting the hotspots for this subset\n",
    "hotspots(flares, d2, d1)"
   ]
  },
  {
   "cell_type": "markdown",
   "metadata": {},
   "source": [
    "## Time Series Using `d1` and `d2` Threshold values"
   ]
  },
  {
   "cell_type": "code",
   "execution_count": null,
   "metadata": {},
   "outputs": [],
   "source": []
  }
 ],
 "metadata": {
  "kernelspec": {
   "display_name": ".venv",
   "language": "python",
   "name": "python3"
  },
  "language_info": {
   "codemirror_mode": {
    "name": "ipython",
    "version": 3
   },
   "file_extension": ".py",
   "mimetype": "text/x-python",
   "name": "python",
   "nbconvert_exporter": "python",
   "pygments_lexer": "ipython3",
   "version": "3.12.0"
  }
 },
 "nbformat": 4,
 "nbformat_minor": 2
}
