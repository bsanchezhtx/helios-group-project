{
 "cells": [
  {
   "cell_type": "markdown",
   "metadata": {},
   "source": [
    "# Packages & Imports"
   ]
  },
  {
   "cell_type": "code",
   "execution_count": 6,
   "metadata": {},
   "outputs": [
    {
     "name": "stdout",
     "output_type": "stream",
     "text": [
      "Requirement already satisfied: pandas in c:\\users\\pdsat\\appdata\\local\\programs\\python\\python311\\lib\\site-packages (2.1.1)\n",
      "Requirement already satisfied: numpy>=1.23.2 in c:\\users\\pdsat\\appdata\\local\\programs\\python\\python311\\lib\\site-packages (from pandas) (1.26.0)\n",
      "Requirement already satisfied: python-dateutil>=2.8.2 in c:\\users\\pdsat\\appdata\\local\\programs\\python\\python311\\lib\\site-packages (from pandas) (2.8.2)\n",
      "Requirement already satisfied: pytz>=2020.1 in c:\\users\\pdsat\\appdata\\local\\programs\\python\\python311\\lib\\site-packages (from pandas) (2023.3.post1)\n",
      "Requirement already satisfied: tzdata>=2022.1 in c:\\users\\pdsat\\appdata\\local\\programs\\python\\python311\\lib\\site-packages (from pandas) (2023.3)\n",
      "Requirement already satisfied: six>=1.5 in c:\\users\\pdsat\\appdata\\local\\programs\\python\\python311\\lib\\site-packages (from python-dateutil>=2.8.2->pandas) (1.16.0)\n"
     ]
    },
    {
     "name": "stderr",
     "output_type": "stream",
     "text": [
      "\n",
      "[notice] A new release of pip is available: 23.2.1 -> 23.3.1\n",
      "[notice] To update, run: python.exe -m pip install --upgrade pip\n"
     ]
    },
    {
     "name": "stdout",
     "output_type": "stream",
     "text": [
      "Requirement already satisfied: numpy in c:\\users\\pdsat\\appdata\\local\\programs\\python\\python311\\lib\\site-packages (1.26.0)\n"
     ]
    },
    {
     "name": "stderr",
     "output_type": "stream",
     "text": [
      "\n",
      "[notice] A new release of pip is available: 23.2.1 -> 23.3.1\n",
      "[notice] To update, run: python.exe -m pip install --upgrade pip\n"
     ]
    },
    {
     "name": "stdout",
     "output_type": "stream",
     "text": [
      "Requirement already satisfied: matplotlib in c:\\users\\pdsat\\appdata\\local\\programs\\python\\python311\\lib\\site-packages (3.8.0)\n",
      "Requirement already satisfied: contourpy>=1.0.1 in c:\\users\\pdsat\\appdata\\local\\programs\\python\\python311\\lib\\site-packages (from matplotlib) (1.1.1)\n",
      "Requirement already satisfied: cycler>=0.10 in c:\\users\\pdsat\\appdata\\local\\programs\\python\\python311\\lib\\site-packages (from matplotlib) (0.11.0)\n",
      "Requirement already satisfied: fonttools>=4.22.0 in c:\\users\\pdsat\\appdata\\local\\programs\\python\\python311\\lib\\site-packages (from matplotlib) (4.42.1)\n",
      "Requirement already satisfied: kiwisolver>=1.0.1 in c:\\users\\pdsat\\appdata\\local\\programs\\python\\python311\\lib\\site-packages (from matplotlib) (1.4.5)\n",
      "Requirement already satisfied: numpy<2,>=1.21 in c:\\users\\pdsat\\appdata\\local\\programs\\python\\python311\\lib\\site-packages (from matplotlib) (1.26.0)\n",
      "Requirement already satisfied: packaging>=20.0 in c:\\users\\pdsat\\appdata\\local\\programs\\python\\python311\\lib\\site-packages (from matplotlib) (23.1)\n",
      "Requirement already satisfied: pillow>=6.2.0 in c:\\users\\pdsat\\appdata\\local\\programs\\python\\python311\\lib\\site-packages (from matplotlib) (10.0.1)\n",
      "Requirement already satisfied: pyparsing>=2.3.1 in c:\\users\\pdsat\\appdata\\local\\programs\\python\\python311\\lib\\site-packages (from matplotlib) (3.1.1)\n",
      "Requirement already satisfied: python-dateutil>=2.7 in c:\\users\\pdsat\\appdata\\local\\programs\\python\\python311\\lib\\site-packages (from matplotlib) (2.8.2)\n",
      "Requirement already satisfied: six>=1.5 in c:\\users\\pdsat\\appdata\\local\\programs\\python\\python311\\lib\\site-packages (from python-dateutil>=2.7->matplotlib) (1.16.0)\n"
     ]
    },
    {
     "name": "stderr",
     "output_type": "stream",
     "text": [
      "\n",
      "[notice] A new release of pip is available: 23.2.1 -> 23.3.1\n",
      "[notice] To update, run: python.exe -m pip install --upgrade pip\n"
     ]
    }
   ],
   "source": [
    "!python -m pip install pandas\n",
    "!python -m pip install numpy\n",
    "!python -m pip install matplotlib"
   ]
  },
  {
   "cell_type": "code",
   "execution_count": 7,
   "metadata": {},
   "outputs": [],
   "source": [
    "import pandas as pd\n",
    "import numpy as np\n",
    "import matplotlib\n",
    "import matplotlib.pyplot as plt\n",
    "from helios import intensity_estimation"
   ]
  },
  {
   "cell_type": "markdown",
   "metadata": {},
   "source": [
    "# Dataset and Subdivision"
   ]
  },
  {
   "cell_type": "code",
   "execution_count": 8,
   "metadata": {},
   "outputs": [],
   "source": [
    "# reading the 04-05 data from the csv\n",
    "df = pd.read_csv('dataset/Solar_flare_RHESSI_2004_05.csv')\n",
    "\n",
    "# changing the month values for the year 2005 (1 = 13, 2 = 14, etc.) to make subdivision simpler later on\n",
    "# in rows where the year value is 2005, add 12 to the month value and replace the old month value\n",
    "df['month'] = np.where((df['year'] == 2005), df['month'] + 12, df['month'])\n",
    "\n",
    "# list that will hold sets of 4 with a two month overlap\n",
    "dfs = []\n",
    "\n",
    "# grouping the data frame by month nummber\n",
    "df_m = df.groupby(['month'])\n",
    "\n",
    "# looping starting at i = 4, in steps of 2, while i < 25\n",
    "# creates an overlap of two months between subsets\n",
    "for i in range(4, 25, 2):\n",
    "    # get groups for i - 3th, i - 2th, i - 1th, and ith months, \n",
    "    # concatenate them into a single data frame, then append this to the dfs list\n",
    "    dfs.append(pd.concat([df_m.get_group(i - 3), df_m.get_group(i - 2), df_m.get_group(i - 1), df_m.get_group(i)]))"
   ]
  },
  {
   "cell_type": "markdown",
   "metadata": {},
   "source": [
    "# Hotspot Discovery"
   ]
  },
  {
   "cell_type": "markdown",
   "metadata": {},
   "source": [
    "## Finding Thresholds `d1` and `d2`"
   ]
  },
  {
   "cell_type": "code",
   "execution_count": 12,
   "metadata": {},
   "outputs": [
    {
     "ename": "ValueError",
     "evalue": "Contour levels must be increasing",
     "output_type": "error",
     "traceback": [
      "\u001b[1;31m---------------------------------------------------------------------------\u001b[0m",
      "\u001b[1;31mValueError\u001b[0m                                Traceback (most recent call last)",
      "\u001b[1;32mc:\\Users\\pdsat\\Sites\\helios-group-project\\task2.ipynb Cell 8\u001b[0m line \u001b[0;36m6\n\u001b[0;32m     <a href='vscode-notebook-cell:/c%3A/Users/pdsat/Sites/helios-group-project/task2.ipynb#X31sZmlsZQ%3D%3D?line=57'>58</a>\u001b[0m     plt\u001b[39m.\u001b[39mshow()\n\u001b[0;32m     <a href='vscode-notebook-cell:/c%3A/Users/pdsat/Sites/helios-group-project/task2.ipynb#X31sZmlsZQ%3D%3D?line=59'>60</a>\u001b[0m \u001b[39m# example usage\u001b[39;00m\n\u001b[0;32m     <a href='vscode-notebook-cell:/c%3A/Users/pdsat/Sites/helios-group-project/task2.ipynb#X31sZmlsZQ%3D%3D?line=60'>61</a>\u001b[0m \n\u001b[0;32m     <a href='vscode-notebook-cell:/c%3A/Users/pdsat/Sites/helios-group-project/task2.ipynb#X31sZmlsZQ%3D%3D?line=61'>62</a>\u001b[0m \u001b[39m# getting the threshold values for the 11 subsets in the 2004-2005 data\u001b[39;00m\n\u001b[1;32m---> <a href='vscode-notebook-cell:/c%3A/Users/pdsat/Sites/helios-group-project/task2.ipynb#X31sZmlsZQ%3D%3D?line=62'>63</a>\u001b[0m d2, d1 \u001b[39m=\u001b[39m thresholds(dfs)\n\u001b[0;32m     <a href='vscode-notebook-cell:/c%3A/Users/pdsat/Sites/helios-group-project/task2.ipynb#X31sZmlsZQ%3D%3D?line=64'>65</a>\u001b[0m \u001b[39mprint\u001b[39m(\u001b[39mf\u001b[39m\u001b[39m\"\u001b[39m\u001b[39md2: \u001b[39m\u001b[39m{\u001b[39;00md2\u001b[39m}\u001b[39;00m\u001b[39m, \u001b[39m\u001b[39m\\n\u001b[39;00m\u001b[39md1: \u001b[39m\u001b[39m{\u001b[39;00md1\u001b[39m}\u001b[39;00m\u001b[39m\"\u001b[39m)\n\u001b[0;32m     <a href='vscode-notebook-cell:/c%3A/Users/pdsat/Sites/helios-group-project/task2.ipynb#X31sZmlsZQ%3D%3D?line=66'>67</a>\u001b[0m \u001b[39m# taking a subset of data (months 21-24)\u001b[39;00m\n",
      "\u001b[1;32mc:\\Users\\pdsat\\Sites\\helios-group-project\\task2.ipynb Cell 8\u001b[0m line \u001b[0;36m1\n\u001b[0;32m      <a href='vscode-notebook-cell:/c%3A/Users/pdsat/Sites/helios-group-project/task2.ipynb#X31sZmlsZQ%3D%3D?line=5'>6</a>\u001b[0m \u001b[39m# loop through each subset\u001b[39;00m\n\u001b[0;32m      <a href='vscode-notebook-cell:/c%3A/Users/pdsat/Sites/helios-group-project/task2.ipynb#X31sZmlsZQ%3D%3D?line=6'>7</a>\u001b[0m \u001b[39mfor\u001b[39;00m \u001b[39mset\u001b[39m \u001b[39min\u001b[39;00m data:\n\u001b[0;32m      <a href='vscode-notebook-cell:/c%3A/Users/pdsat/Sites/helios-group-project/task2.ipynb#X31sZmlsZQ%3D%3D?line=7'>8</a>\u001b[0m     \u001b[39m# append the potential threshold values to the ticks list\u001b[39;00m\n\u001b[0;32m      <a href='vscode-notebook-cell:/c%3A/Users/pdsat/Sites/helios-group-project/task2.ipynb#X31sZmlsZQ%3D%3D?line=8'>9</a>\u001b[0m     \u001b[39m# a level value of [0, 0.25, 0.5, 0.75, 1] will return 5 intensity values where each\u001b[39;00m\n\u001b[0;32m     <a href='vscode-notebook-cell:/c%3A/Users/pdsat/Sites/helios-group-project/task2.ipynb#X31sZmlsZQ%3D%3D?line=9'>10</a>\u001b[0m     \u001b[39m# corresponds with a probability mass of 0%, 25%, and so on\u001b[39;00m\n\u001b[1;32m---> <a href='vscode-notebook-cell:/c%3A/Users/pdsat/Sites/helios-group-project/task2.ipynb#X31sZmlsZQ%3D%3D?line=10'>11</a>\u001b[0m     ticks\u001b[39m.\u001b[39mappend(intensity_estimation(\u001b[39mset\u001b[39;49m, plot\u001b[39m=\u001b[39;49m\u001b[39mTrue\u001b[39;49;00m, levels\u001b[39m=\u001b[39;49m[\u001b[39m0\u001b[39;49m, \u001b[39m0.25\u001b[39;49m, \u001b[39m0.5\u001b[39;49m, \u001b[39m1\u001b[39;49m, \u001b[39m1\u001b[39;49m]))\n\u001b[0;32m     <a href='vscode-notebook-cell:/c%3A/Users/pdsat/Sites/helios-group-project/task2.ipynb#X31sZmlsZQ%3D%3D?line=12'>13</a>\u001b[0m \u001b[39m# numpy mean will get the element-wise mean for all the potential threshold values\u001b[39;00m\n\u001b[0;32m     <a href='vscode-notebook-cell:/c%3A/Users/pdsat/Sites/helios-group-project/task2.ipynb#X31sZmlsZQ%3D%3D?line=13'>14</a>\u001b[0m \u001b[39m# from here, we can select the d1 and d2 threshold values from this list, like t[2] for the med\u001b[39;00m\n\u001b[0;32m     <a href='vscode-notebook-cell:/c%3A/Users/pdsat/Sites/helios-group-project/task2.ipynb#X31sZmlsZQ%3D%3D?line=14'>15</a>\u001b[0m \u001b[39m# hotspots and t[3] for the intense hotspots\u001b[39;00m\n\u001b[0;32m     <a href='vscode-notebook-cell:/c%3A/Users/pdsat/Sites/helios-group-project/task2.ipynb#X31sZmlsZQ%3D%3D?line=15'>16</a>\u001b[0m t \u001b[39m=\u001b[39m np\u001b[39m.\u001b[39mmean(ticks, axis\u001b[39m=\u001b[39m\u001b[39m0\u001b[39m)\n",
      "File \u001b[1;32mc:\\Users\\pdsat\\Sites\\helios-group-project\\helios.py:21\u001b[0m, in \u001b[0;36mintensity_estimation\u001b[1;34m(data, plot, levels)\u001b[0m\n\u001b[0;32m     18\u001b[0m plt\u001b[39m.\u001b[39mfigure()\n\u001b[0;32m     20\u001b[0m \u001b[39m# seaborn kde plot, uses scipy gaussian_kde underneath\u001b[39;00m\n\u001b[1;32m---> 21\u001b[0m ax \u001b[39m=\u001b[39m sns\u001b[39m.\u001b[39;49mkdeplot(data\u001b[39m=\u001b[39;49mdata, x\u001b[39m=\u001b[39;49m\u001b[39m'\u001b[39;49m\u001b[39mx.pos.asec\u001b[39;49m\u001b[39m'\u001b[39;49m, y\u001b[39m=\u001b[39;49m\u001b[39m'\u001b[39;49m\u001b[39my.pos.asec\u001b[39;49m\u001b[39m'\u001b[39;49m, \n\u001b[0;32m     22\u001b[0m                    weights\u001b[39m=\u001b[39;49m\u001b[39m'\u001b[39;49m\u001b[39mtotal.counts\u001b[39;49m\u001b[39m'\u001b[39;49m, fill\u001b[39m=\u001b[39;49m\u001b[39mTrue\u001b[39;49;00m, levels\u001b[39m=\u001b[39;49mlevels, \n\u001b[0;32m     23\u001b[0m                    thresh\u001b[39m=\u001b[39;49m\u001b[39m0\u001b[39;49m, cmap\u001b[39m=\u001b[39;49m\u001b[39m'\u001b[39;49m\u001b[39mgist_heat\u001b[39;49m\u001b[39m'\u001b[39;49m, cbar\u001b[39m=\u001b[39;49m\u001b[39mTrue\u001b[39;49;00m)\n\u001b[0;32m     25\u001b[0m \u001b[39m# retrieving the tick values for the colorbar, can be used as threshold values \u001b[39;00m\n\u001b[0;32m     26\u001b[0m ticks \u001b[39m=\u001b[39m ax\u001b[39m.\u001b[39mcollections[\u001b[39m-\u001b[39m\u001b[39m1\u001b[39m]\u001b[39m.\u001b[39mcolorbar\u001b[39m.\u001b[39mget_ticks()\n",
      "File \u001b[1;32mc:\\Users\\pdsat\\AppData\\Local\\Programs\\Python\\Python311\\Lib\\site-packages\\seaborn\\distributions.py:1715\u001b[0m, in \u001b[0;36mkdeplot\u001b[1;34m(data, x, y, hue, weights, palette, hue_order, hue_norm, color, fill, multiple, common_norm, common_grid, cumulative, bw_method, bw_adjust, warn_singular, log_scale, levels, thresh, gridsize, cut, clip, legend, cbar, cbar_ax, cbar_kws, ax, **kwargs)\u001b[0m\n\u001b[0;32m   1701\u001b[0m     p\u001b[39m.\u001b[39mplot_univariate_density(\n\u001b[0;32m   1702\u001b[0m         multiple\u001b[39m=\u001b[39mmultiple,\n\u001b[0;32m   1703\u001b[0m         common_norm\u001b[39m=\u001b[39mcommon_norm,\n\u001b[1;32m   (...)\u001b[0m\n\u001b[0;32m   1710\u001b[0m         \u001b[39m*\u001b[39m\u001b[39m*\u001b[39mplot_kws,\n\u001b[0;32m   1711\u001b[0m     )\n\u001b[0;32m   1713\u001b[0m \u001b[39melse\u001b[39;00m:\n\u001b[1;32m-> 1715\u001b[0m     p\u001b[39m.\u001b[39;49mplot_bivariate_density(\n\u001b[0;32m   1716\u001b[0m         common_norm\u001b[39m=\u001b[39;49mcommon_norm,\n\u001b[0;32m   1717\u001b[0m         fill\u001b[39m=\u001b[39;49mfill,\n\u001b[0;32m   1718\u001b[0m         levels\u001b[39m=\u001b[39;49mlevels,\n\u001b[0;32m   1719\u001b[0m         thresh\u001b[39m=\u001b[39;49mthresh,\n\u001b[0;32m   1720\u001b[0m         legend\u001b[39m=\u001b[39;49mlegend,\n\u001b[0;32m   1721\u001b[0m         color\u001b[39m=\u001b[39;49mcolor,\n\u001b[0;32m   1722\u001b[0m         warn_singular\u001b[39m=\u001b[39;49mwarn_singular,\n\u001b[0;32m   1723\u001b[0m         cbar\u001b[39m=\u001b[39;49mcbar,\n\u001b[0;32m   1724\u001b[0m         cbar_ax\u001b[39m=\u001b[39;49mcbar_ax,\n\u001b[0;32m   1725\u001b[0m         cbar_kws\u001b[39m=\u001b[39;49mcbar_kws,\n\u001b[0;32m   1726\u001b[0m         estimate_kws\u001b[39m=\u001b[39;49mestimate_kws,\n\u001b[0;32m   1727\u001b[0m         \u001b[39m*\u001b[39;49m\u001b[39m*\u001b[39;49mkwargs,\n\u001b[0;32m   1728\u001b[0m     )\n\u001b[0;32m   1730\u001b[0m \u001b[39mreturn\u001b[39;00m ax\n",
      "File \u001b[1;32mc:\\Users\\pdsat\\AppData\\Local\\Programs\\Python\\Python311\\Lib\\site-packages\\seaborn\\distributions.py:1176\u001b[0m, in \u001b[0;36m_DistributionPlotter.plot_bivariate_density\u001b[1;34m(self, common_norm, fill, levels, thresh, color, legend, cbar, warn_singular, cbar_ax, cbar_kws, estimate_kws, **contour_kws)\u001b[0m\n\u001b[0;32m   1173\u001b[0m \u001b[39m# Pop the label kwarg which is unused by contour_func (but warns)\u001b[39;00m\n\u001b[0;32m   1174\u001b[0m contour_kws\u001b[39m.\u001b[39mpop(\u001b[39m\"\u001b[39m\u001b[39mlabel\u001b[39m\u001b[39m\"\u001b[39m, \u001b[39mNone\u001b[39;00m)\n\u001b[1;32m-> 1176\u001b[0m cset \u001b[39m=\u001b[39m contour_func(\n\u001b[0;32m   1177\u001b[0m     xx, yy, density,\n\u001b[0;32m   1178\u001b[0m     levels\u001b[39m=\u001b[39;49mdraw_levels[key],\n\u001b[0;32m   1179\u001b[0m     \u001b[39m*\u001b[39;49m\u001b[39m*\u001b[39;49mcontour_kws,\n\u001b[0;32m   1180\u001b[0m )\n\u001b[0;32m   1182\u001b[0m \u001b[39m# Add a color bar representing the contour heights\u001b[39;00m\n\u001b[0;32m   1183\u001b[0m \u001b[39m# Note: this shows iso densities, not iso proportions\u001b[39;00m\n\u001b[0;32m   1184\u001b[0m \u001b[39m# See more notes in histplot about how this could be improved\u001b[39;00m\n\u001b[0;32m   1185\u001b[0m \u001b[39mif\u001b[39;00m cbar:\n",
      "File \u001b[1;32mc:\\Users\\pdsat\\AppData\\Local\\Programs\\Python\\Python311\\Lib\\site-packages\\matplotlib\\__init__.py:1478\u001b[0m, in \u001b[0;36m_preprocess_data.<locals>.inner\u001b[1;34m(ax, data, *args, **kwargs)\u001b[0m\n\u001b[0;32m   1475\u001b[0m \u001b[39m@functools\u001b[39m\u001b[39m.\u001b[39mwraps(func)\n\u001b[0;32m   1476\u001b[0m \u001b[39mdef\u001b[39;00m \u001b[39minner\u001b[39m(ax, \u001b[39m*\u001b[39margs, data\u001b[39m=\u001b[39m\u001b[39mNone\u001b[39;00m, \u001b[39m*\u001b[39m\u001b[39m*\u001b[39mkwargs):\n\u001b[0;32m   1477\u001b[0m     \u001b[39mif\u001b[39;00m data \u001b[39mis\u001b[39;00m \u001b[39mNone\u001b[39;00m:\n\u001b[1;32m-> 1478\u001b[0m         \u001b[39mreturn\u001b[39;00m func(ax, \u001b[39m*\u001b[39;49m\u001b[39mmap\u001b[39;49m(sanitize_sequence, args), \u001b[39m*\u001b[39;49m\u001b[39m*\u001b[39;49mkwargs)\n\u001b[0;32m   1480\u001b[0m     bound \u001b[39m=\u001b[39m new_sig\u001b[39m.\u001b[39mbind(ax, \u001b[39m*\u001b[39margs, \u001b[39m*\u001b[39m\u001b[39m*\u001b[39mkwargs)\n\u001b[0;32m   1481\u001b[0m     auto_label \u001b[39m=\u001b[39m (bound\u001b[39m.\u001b[39marguments\u001b[39m.\u001b[39mget(label_namer)\n\u001b[0;32m   1482\u001b[0m                   \u001b[39mor\u001b[39;00m bound\u001b[39m.\u001b[39mkwargs\u001b[39m.\u001b[39mget(label_namer))\n",
      "File \u001b[1;32mc:\\Users\\pdsat\\AppData\\Local\\Programs\\Python\\Python311\\Lib\\site-packages\\matplotlib\\axes\\_axes.py:6528\u001b[0m, in \u001b[0;36mAxes.contourf\u001b[1;34m(self, *args, **kwargs)\u001b[0m\n\u001b[0;32m   6519\u001b[0m \u001b[39m\u001b[39m\u001b[39m\"\"\"\u001b[39;00m\n\u001b[0;32m   6520\u001b[0m \u001b[39mPlot filled contours.\u001b[39;00m\n\u001b[0;32m   6521\u001b[0m \n\u001b[1;32m   (...)\u001b[0m\n\u001b[0;32m   6525\u001b[0m \u001b[39m%(contour_doc)s\u001b[39;00m\n\u001b[0;32m   6526\u001b[0m \u001b[39m\"\"\"\u001b[39;00m\n\u001b[0;32m   6527\u001b[0m kwargs[\u001b[39m'\u001b[39m\u001b[39mfilled\u001b[39m\u001b[39m'\u001b[39m] \u001b[39m=\u001b[39m \u001b[39mTrue\u001b[39;00m\n\u001b[1;32m-> 6528\u001b[0m contours \u001b[39m=\u001b[39m mcontour\u001b[39m.\u001b[39;49mQuadContourSet(\u001b[39mself\u001b[39;49m, \u001b[39m*\u001b[39;49margs, \u001b[39m*\u001b[39;49m\u001b[39m*\u001b[39;49mkwargs)\n\u001b[0;32m   6529\u001b[0m \u001b[39mself\u001b[39m\u001b[39m.\u001b[39m_request_autoscale_view()\n\u001b[0;32m   6530\u001b[0m \u001b[39mreturn\u001b[39;00m contours\n",
      "File \u001b[1;32mc:\\Users\\pdsat\\AppData\\Local\\Programs\\Python\\Python311\\Lib\\site-packages\\matplotlib\\contour.py:847\u001b[0m, in \u001b[0;36mContourSet.__init__\u001b[1;34m(self, ax, levels, filled, linewidths, linestyles, hatches, alpha, origin, extent, cmap, colors, norm, vmin, vmax, extend, antialiased, nchunk, locator, transform, negative_linestyles, clip_path, *args, **kwargs)\u001b[0m\n\u001b[0;32m    843\u001b[0m \u001b[39mif\u001b[39;00m \u001b[39mself\u001b[39m\u001b[39m.\u001b[39mnegative_linestyles \u001b[39mis\u001b[39;00m \u001b[39mNone\u001b[39;00m:\n\u001b[0;32m    844\u001b[0m     \u001b[39mself\u001b[39m\u001b[39m.\u001b[39mnegative_linestyles \u001b[39m=\u001b[39m \\\n\u001b[0;32m    845\u001b[0m         mpl\u001b[39m.\u001b[39mrcParams[\u001b[39m'\u001b[39m\u001b[39mcontour.negative_linestyle\u001b[39m\u001b[39m'\u001b[39m]\n\u001b[1;32m--> 847\u001b[0m kwargs \u001b[39m=\u001b[39m \u001b[39mself\u001b[39;49m\u001b[39m.\u001b[39;49m_process_args(\u001b[39m*\u001b[39;49margs, \u001b[39m*\u001b[39;49m\u001b[39m*\u001b[39;49mkwargs)\n\u001b[0;32m    848\u001b[0m \u001b[39mself\u001b[39m\u001b[39m.\u001b[39m_process_levels()\n\u001b[0;32m    850\u001b[0m \u001b[39mself\u001b[39m\u001b[39m.\u001b[39m_extend_min \u001b[39m=\u001b[39m \u001b[39mself\u001b[39m\u001b[39m.\u001b[39mextend \u001b[39min\u001b[39;00m [\u001b[39m'\u001b[39m\u001b[39mmin\u001b[39m\u001b[39m'\u001b[39m, \u001b[39m'\u001b[39m\u001b[39mboth\u001b[39m\u001b[39m'\u001b[39m]\n",
      "File \u001b[1;32mc:\\Users\\pdsat\\AppData\\Local\\Programs\\Python\\Python311\\Lib\\site-packages\\matplotlib\\contour.py:1533\u001b[0m, in \u001b[0;36mQuadContourSet._process_args\u001b[1;34m(self, corner_mask, algorithm, *args, **kwargs)\u001b[0m\n\u001b[0;32m   1530\u001b[0m         corner_mask \u001b[39m=\u001b[39m mpl\u001b[39m.\u001b[39mrcParams[\u001b[39m'\u001b[39m\u001b[39mcontour.corner_mask\u001b[39m\u001b[39m'\u001b[39m]\n\u001b[0;32m   1531\u001b[0m \u001b[39mself\u001b[39m\u001b[39m.\u001b[39m_corner_mask \u001b[39m=\u001b[39m corner_mask\n\u001b[1;32m-> 1533\u001b[0m x, y, z \u001b[39m=\u001b[39m \u001b[39mself\u001b[39;49m\u001b[39m.\u001b[39;49m_contour_args(args, kwargs)\n\u001b[0;32m   1535\u001b[0m contour_generator \u001b[39m=\u001b[39m contourpy\u001b[39m.\u001b[39mcontour_generator(\n\u001b[0;32m   1536\u001b[0m     x, y, z, name\u001b[39m=\u001b[39m\u001b[39mself\u001b[39m\u001b[39m.\u001b[39m_algorithm, corner_mask\u001b[39m=\u001b[39m\u001b[39mself\u001b[39m\u001b[39m.\u001b[39m_corner_mask,\n\u001b[0;32m   1537\u001b[0m     line_type\u001b[39m=\u001b[39mcontourpy\u001b[39m.\u001b[39mLineType\u001b[39m.\u001b[39mSeparateCode,\n\u001b[0;32m   1538\u001b[0m     fill_type\u001b[39m=\u001b[39mcontourpy\u001b[39m.\u001b[39mFillType\u001b[39m.\u001b[39mOuterCode,\n\u001b[0;32m   1539\u001b[0m     chunk_size\u001b[39m=\u001b[39m\u001b[39mself\u001b[39m\u001b[39m.\u001b[39mnchunk)\n\u001b[0;32m   1541\u001b[0m t \u001b[39m=\u001b[39m \u001b[39mself\u001b[39m\u001b[39m.\u001b[39mget_transform()\n",
      "File \u001b[1;32mc:\\Users\\pdsat\\AppData\\Local\\Programs\\Python\\Python311\\Lib\\site-packages\\matplotlib\\contour.py:1584\u001b[0m, in \u001b[0;36mQuadContourSet._contour_args\u001b[1;34m(self, args, kwargs)\u001b[0m\n\u001b[0;32m   1582\u001b[0m     _api\u001b[39m.\u001b[39mwarn_external(\u001b[39m'\u001b[39m\u001b[39mLog scale: values of z <= 0 have been masked\u001b[39m\u001b[39m'\u001b[39m)\n\u001b[0;32m   1583\u001b[0m     \u001b[39mself\u001b[39m\u001b[39m.\u001b[39mzmin \u001b[39m=\u001b[39m z\u001b[39m.\u001b[39mmin()\u001b[39m.\u001b[39mastype(\u001b[39mfloat\u001b[39m)\n\u001b[1;32m-> 1584\u001b[0m \u001b[39mself\u001b[39;49m\u001b[39m.\u001b[39;49m_process_contour_level_args(args, z\u001b[39m.\u001b[39;49mdtype)\n\u001b[0;32m   1585\u001b[0m \u001b[39mreturn\u001b[39;00m (x, y, z)\n",
      "File \u001b[1;32mc:\\Users\\pdsat\\AppData\\Local\\Programs\\Python\\Python311\\Lib\\site-packages\\matplotlib\\contour.py:1225\u001b[0m, in \u001b[0;36mContourSet._process_contour_level_args\u001b[1;34m(self, args, z_dtype)\u001b[0m\n\u001b[0;32m   1223\u001b[0m     \u001b[39mraise\u001b[39;00m \u001b[39mValueError\u001b[39;00m(\u001b[39m\"\u001b[39m\u001b[39mFilled contours require at least 2 levels.\u001b[39m\u001b[39m\"\u001b[39m)\n\u001b[0;32m   1224\u001b[0m \u001b[39mif\u001b[39;00m \u001b[39mlen\u001b[39m(\u001b[39mself\u001b[39m\u001b[39m.\u001b[39mlevels) \u001b[39m>\u001b[39m \u001b[39m1\u001b[39m \u001b[39mand\u001b[39;00m np\u001b[39m.\u001b[39mmin(np\u001b[39m.\u001b[39mdiff(\u001b[39mself\u001b[39m\u001b[39m.\u001b[39mlevels)) \u001b[39m<\u001b[39m\u001b[39m=\u001b[39m \u001b[39m0.0\u001b[39m:\n\u001b[1;32m-> 1225\u001b[0m     \u001b[39mraise\u001b[39;00m \u001b[39mValueError\u001b[39;00m(\u001b[39m\"\u001b[39m\u001b[39mContour levels must be increasing\u001b[39m\u001b[39m\"\u001b[39m)\n",
      "\u001b[1;31mValueError\u001b[0m: Contour levels must be increasing"
     ]
    },
    {
     "data": {
      "image/png": "[encoded data removed]",
      "text/plain": [
       "<Figure size 640x480 with 1 Axes>"
      ]
     },
     "metadata": {},
     "output_type": "display_data"
    }
   ],
   "source": [
    "def thresholds(data):\n",
    "    \"\"\"For each subset of data, get the potential threshold values for hotspots\"\"\"\n",
    "    \n",
    "    ticks = []\n",
    "\n",
    "    # loop through each subset\n",
    "    for set in data:\n",
    "        # append the potential threshold values to the ticks list\n",
    "        # a level value of [0, 0.25, 0.5, 0.75, 1] will return 5 intensity values where each\n",
    "        # corresponds with a probability mass of 0%, 25%, and so on\n",
    "        ticks.append(intensity_estimation(set, plot=True, levels=[0, 0.25, 0.5, 0.99, 1]))\n",
    "    \n",
    "    # numpy mean will get the element-wise mean for all the potential threshold values\n",
    "    # from here, we can select the d1 and d2 threshold values from this list, like t[2] for the med\n",
    "    # hotspots and t[3] for the intense hotspots\n",
    "    t = np.mean(ticks, axis=0)\n",
    "\n",
    "    # returning d2, d1\n",
    "    return (t[2], t[3])\n",
    "\n",
    "def hotspots(data, d2, d1):\n",
    "    # getting the intensity values based on frequency for this data set\n",
    "    intesities = intensity_estimation(data)\n",
    "    # assigning them in a new column in the dataframe\n",
    "    data['intensity.estimation'] = intesities\n",
    "\n",
    "    # new empty array that will contain the classification for the solar flare\n",
    "    intensity_classifications = np.empty(shape=len(data), dtype=np.int32)\n",
    "    # assigning a new column in the dataframe\n",
    "    data['intensity.class'] = intensity_classifications\n",
    "\n",
    "    # classifying each hotspot as either 0: low intensity, 1: medium-high intensity, or 2: high intensity \n",
    "    data['intensity.class'] = np.where((data['intensity.estimation'] < d2 ), 0, data['intensity.class'])\n",
    "    data['intensity.class'] = np.where(((data['intensity.estimation'] >= d2) & (data['intensity.estimation'] < d1)), 1, data['intensity.class'] )\n",
    "    data['intensity.class'] = np.where((data['intensity.estimation'] >= d1 ), 2, data['intensity.class'])\n",
    "\n",
    "    # list of colors for the hotspot plot\n",
    "    colors = ['black','orange','red']\n",
    "\n",
    "    # list of identifiers for the hotspots\n",
    "    hotspot_type = ['low', 'medium-high', 'high']\n",
    "\n",
    "    x = data['x.pos.asec'].values.flatten()\n",
    "    y = data['y.pos.asec'].values.flatten()\n",
    "    c = data['intensity.class'].values.flatten()\n",
    "\n",
    "    plt.figure()\n",
    "    plt.hexbin(x=x, y=y, C=c, cmap=matplotlib.colors.ListedColormap(colors), gridsize=50)\n",
    "    cb = plt.colorbar()\n",
    "    loc = np.arange(0,max(c),max(c)/float(len(colors)))\n",
    "    cb.set_ticks(loc)\n",
    "    cb.set_ticklabels(hotspot_type)\n",
    "    plt.xlabel('x.pos.asec')\n",
    "    plt.ylabel('y.pos.asec')\n",
    "    plt.title(f\"Hotspots for Months {data['month'].min()}-{data['month'].max()}\")\n",
    "    date_range = f\"{data['year'].iloc[0]}_{data['month'].min()}-{data['month'].max()}\"\n",
    "    plt.savefig(f\"./output/hotspots_{date_range}.png\")\n",
    "    plt.show()\n",
    "\n",
    "# example usage\n",
    "\n",
    "# getting the threshold values for the 11 subsets in the 2004-2005 data\n",
    "d2, d1 = thresholds(dfs)\n",
    "\n",
    "print(f\"d2: {d2}, \\nd1: {d1}\")\n",
    "\n",
    "# taking a subset of data (months 21-24)\n",
    "flares = dfs[-1]\n",
    "\n",
    "# getting the hotspots for this subset\n",
    "hotspots(flares, d2, d1)"
   ]
  },
  {
   "cell_type": "markdown",
   "metadata": {},
   "source": [
    "## Time Series Using `d1` and `d2` Threshold values"
   ]
  },
  {
   "cell_type": "code",
   "execution_count": null,
   "metadata": {},
   "outputs": [],
   "source": []
  }
 ],
 "metadata": {
  "kernelspec": {
   "display_name": ".venv",
   "language": "python",
   "name": "python3"
  },
  "language_info": {
   "codemirror_mode": {
    "name": "ipython",
    "version": 3
   },
   "file_extension": ".py",
   "mimetype": "text/x-python",
   "name": "python",
   "nbconvert_exporter": "python",
   "pygments_lexer": "ipython3",
   "version": "3.11.5"
  }
 },
 "nbformat": 4,
 "nbformat_minor": 2
}
