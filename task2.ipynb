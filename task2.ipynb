{
 "cells": [
  {
   "cell_type": "markdown",
   "metadata": {},
   "source": [
    "# Packages & Imports"
   ]
  },
  {
   "cell_type": "code",
   "execution_count": null,
   "metadata": {},
   "outputs": [],
   "source": [
    "!python -m pip install pandas\n",
    "!python -m pip install numpy\n",
    "!python -m pip install matplotlib\n",
    "!python -m pip install pillow"
   ]
  },
  {
   "cell_type": "code",
   "execution_count": null,
   "metadata": {},
   "outputs": [],
   "source": [
    "import pandas as pd\n",
    "import numpy as np\n",
    "import matplotlib\n",
    "import matplotlib.pyplot as plt\n",
    "import matplotlib.animation as animation\n",
    "from helios import Helios"
   ]
  },
  {
   "cell_type": "markdown",
   "metadata": {},
   "source": [
    "# Dataset and Subdivision"
   ]
  },
  {
   "cell_type": "code",
   "execution_count": null,
   "metadata": {},
   "outputs": [],
   "source": [
    "# reading the 04-05 data from the csv\n",
    "df = pd.read_csv('dataset/Solar_flare_RHESSI_2004_05.csv')\n",
    "\n",
    "# changing the month values for the year 2005 (1 = 13, 2 = 14, etc.) to make subdivision simpler later on\n",
    "# in rows where the year value is 2005, add 12 to the month value and replace the old month value\n",
    "df['month'] = np.where((df['year'] == 2005), df['month'] + 12, df['month'])\n",
    "\n",
    "# list that will hold sets of 4 with a two month overlap\n",
    "dfs = []\n",
    "\n",
    "# grouping the data frame by month nummber\n",
    "df_m = df.groupby(['month'])\n",
    "\n",
    "# looping starting at i = 4, in steps of 2, while i < 25\n",
    "# creates an overlap of two months between subsets\n",
    "for i in range(4, 25, 2):\n",
    "    # get groups for i - 3th, i - 2th, i - 1th, and ith months, \n",
    "    # concatenate them into a single data frame, then append this to the dfs list\n",
    "    dfs.append(pd.concat([df_m.get_group(i - 3), df_m.get_group(i - 2), df_m.get_group(i - 1), df_m.get_group(i)]))"
   ]
  },
  {
   "cell_type": "markdown",
   "metadata": {},
   "source": [
    "# Hotspot Discovery"
   ]
  },
  {
   "cell_type": "markdown",
   "metadata": {},
   "source": [
    "## Finding Thresholds `d1` and `d2`"
   ]
  },
  {
   "cell_type": "code",
   "execution_count": null,
   "metadata": {},
   "outputs": [],
   "source": [
    "def thresholds(data):\n",
    "    \"\"\"For each subset of data, get the potential threshold values for hotspots\"\"\"\n",
    "    \n",
    "    ticks = []\n",
    "\n",
    "    # loop through each subset\n",
    "    for set in data:\n",
    "        # append the potential threshold values to the ticks list\n",
    "        # a level value of [0, 0.25, 0.5, 0.75, 1] will return 5 intensity values where each\n",
    "        # corresponds with a probability mass of 0%, 25%, and so on\n",
    "        ticks.append(Helios.intensity_estimation_frequency(set, plot=True, thresh=True, levels=[0, 0.25, 0.5, 0.99, 1]))\n",
    "    \n",
    "    # numpy mean will get the element-wise mean for all the potential threshold values\n",
    "    # from here, we can select the d1 and d2 threshold values from this list, like t[2] for the med\n",
    "    # hotspots and t[3] for the intense hotspots\n",
    "    t = np.mean(ticks, axis=0)\n",
    "\n",
    "    # returning d2, d1\n",
    "    return (t[2], t[3])\n",
    "\n",
    "def hotspots(data, d2, d1):\n",
    "    # getting the intensity values based on frequency for this data set\n",
    "    intesities = Helios.intensity_estimation_frequency(data, plot=False)\n",
    "    # assigning them in a new column in the dataframe\n",
    "    data['intensity.estimation'] = intesities\n",
    "\n",
    "    # new empty array that will contain the classification for the solar flare\n",
    "    intensity_classifications = np.empty(shape=len(data), dtype=np.int32)\n",
    "    # assigning a new column in the dataframe\n",
    "    data['intensity.class'] = intensity_classifications\n",
    "\n",
    "    # classifying each hotspot as either 0: low intensity, 1: medium-high intensity, or 2: high intensity \n",
    "    data['intensity.class'] = np.where((data['intensity.estimation'] < d2 ), 0, data['intensity.class'])\n",
    "    data['intensity.class'] = np.where(((data['intensity.estimation'] >= d2) & (data['intensity.estimation'] < d1)), 1, data['intensity.class'] )\n",
    "    data['intensity.class'] = np.where((data['intensity.estimation'] >= d1 ), 2, data['intensity.class'])\n",
    "\n",
    "    # list of colors for the hotspot plot\n",
    "    colors = ['black','orange','red']\n",
    "\n",
    "    # list of identifiers for the hotspots\n",
    "    hotspot_type = ['low', 'medium-high', 'high']\n",
    "\n",
    "    x = data['x.pos.asec'].values.flatten()\n",
    "    y = data['y.pos.asec'].values.flatten()\n",
    "    c = data['intensity.class'].values.flatten()\n",
    "\n",
    "    plt.figure()\n",
    "    plt.hexbin(x=x, y=y, C=c, cmap=matplotlib.colors.ListedColormap(colors), gridsize=50)\n",
    "    cb = plt.colorbar()\n",
    "    loc = np.arange(0,max(c),max(c)/float(len(colors)))\n",
    "    cb.set_ticks(loc)\n",
    "    cb.set_ticklabels(hotspot_type)\n",
    "    plt.xlabel('x.pos.asec')\n",
    "    plt.ylabel('y.pos.asec')\n",
    "    plt.title(f\"Hotspots for Months {data['month'].min()}-{data['month'].max()}\")\n",
    "    date_range = f\"{data['year'].iloc[0]}_{data['month'].min()}-{data['month'].max()}\"\n",
    "    plt.savefig(f\"./output/hotspots_{date_range}.png\")\n",
    "    plt.show()\n",
    "\n",
    "# example usage\n",
    "\n",
    "# getting the threshold values for the 11 subsets in the 2004-2005 data\n",
    "d2, d1 = thresholds(dfs)\n",
    "\n",
    "print(f\"d2: {d2}, \\nd1: {d1}\")\n",
    "\n",
    "# taking a subset of data (months 21-24)\n",
    "flares = dfs[-1]\n",
    "\n",
    "# getting the hotspots for this subset\n",
    "hotspots(flares, d2, d1)"
   ]
  },
  {
   "cell_type": "markdown",
   "metadata": {},
   "source": [
    "## Time Series Using `d1` and `d2` Threshold values"
   ]
  },
  {
   "cell_type": "code",
   "execution_count": null,
   "metadata": {},
   "outputs": [],
   "source": [
    "dates = []\n",
    "for data in dfs:\n",
    "    dates.append(f'{data['month'].min()}-{data['month'].max()}')\n",
    "    # getting the intensity values based on frequency for this data set\n",
    "    intesities = Helios.intensity_estimation_frequency(data, plot=False)\n",
    "    # assigning them in a new column in the dataframe\n",
    "    data['intensity.estimation'] = intesities\n",
    "\n",
    "    # new empty array that will contain the classification for the solar flare\n",
    "    intensity_classifications = np.empty(shape=len(data), dtype=np.int32)\n",
    "    # assigning a new column in the dataframe\n",
    "    data['intensity.class'] = intensity_classifications\n",
    "\n",
    "    # classifying each hotspot as either 0: low intensity, 1: medium-high intensity, or 2: high intensity \n",
    "    data['intensity.class'] = np.where((data['intensity.estimation'] < d2 ), 0, data['intensity.class'])\n",
    "    data['intensity.class'] = np.where(((data['intensity.estimation'] >= d2) & (data['intensity.estimation'] < d1)), 1, data['intensity.class'] )\n",
    "    data['intensity.class'] = np.where((data['intensity.estimation'] >= d1 ), 2, data['intensity.class'])\n"
   ]
  },
  {
   "cell_type": "markdown",
   "metadata": {},
   "source": [
    "## `d2` Hotspots"
   ]
  },
  {
   "cell_type": "code",
   "execution_count": null,
   "metadata": {},
   "outputs": [],
   "source": [
    "med = dfs[0].loc[dfs[0]['intensity.class'] == 1]\n",
    "x = med['x.pos.asec'].values.flatten()\n",
    "y = med['y.pos.asec'].values.flatten()\n",
    "c = med['intensity.class'].values.flatten()\n",
    "\n",
    "fig, ax = plt.subplots()\n",
    "plt.suptitle('Time Series for Medium-High Intensity Hotspots')\n",
    "img = plt.imread('bg.jpg')\n",
    "\n",
    "ax.set_xlim(-1100, 1100)\n",
    "ax.set_ylim(-1100, 1100)\n",
    "ax.set_title(dates[0])\n",
    "ax.imshow(img, extent=[-1100, 1100, -1100, 1100])\n",
    "hex = plt.hexbin(x, y, C=c, cmap=matplotlib.colors.ListedColormap(['orange']), gridsize=25, extent=(-1000, 1000, -1000, 1000))\n",
    "\n",
    "def update(frame):\n",
    "    med = dfs[frame].loc[dfs[frame]['intensity.class'] == 1]\n",
    "    x = med['x.pos.asec'].values.flatten()\n",
    "    y = med['y.pos.asec'].values.flatten()\n",
    "    c = med['intensity.class'].values.flatten()\n",
    "    \n",
    "    ax.clear()\n",
    "    plt.suptitle('Time Series for Medium-High Intensity Hotspots (2004-2005)')\n",
    "    ax.set_xlim(-1100, 1100)\n",
    "    ax.set_ylim(-1100, 1100)\n",
    "    ax.set_title(dates[frame])\n",
    "    ax.imshow(img, extent=[-1100, 1100, -1100, 1100])\n",
    "    hex = plt.hexbin(x, y, C=c, cmap=matplotlib.colors.ListedColormap(['orange']), gridsize=25, extent=(-1000, 1000, -1000, 1000))\n",
    "\n",
    "    return hex,\n",
    "\n",
    "ani = animation.FuncAnimation(fig, update, frames=11, blit=True)\n",
    "writer = animation.PillowWriter(fps=1, metadata=dict(artist='Machine Learning Mavericks'), bitrate=1800)\n",
    "ani.save('./output/time_series_med.gif', writer=writer)\n",
    "plt.show()"
   ]
  },
  {
   "cell_type": "markdown",
   "metadata": {},
   "source": [
    "## `d1` Hotspots"
   ]
  },
  {
   "cell_type": "code",
   "execution_count": null,
   "metadata": {},
   "outputs": [],
   "source": [
    "high = dfs[0].loc[dfs[0]['intensity.class'] == 2]\n",
    "x = high['x.pos.asec'].values.flatten()\n",
    "y = high['y.pos.asec'].values.flatten()\n",
    "c = high['intensity.class'].values.flatten()\n",
    "\n",
    "fig, ax = plt.subplots()\n",
    "plt.suptitle('Time Series for Medium-High Intensity Hotspots')\n",
    "img = plt.imread('bg.jpg')\n",
    "\n",
    "ax.set_xlim(-1100, 1100)\n",
    "ax.set_ylim(-1100, 1100)\n",
    "ax.set_title(dates[0])\n",
    "ax.imshow(img, extent=[-1100, 1100, -1100, 1100])\n",
    "hex = plt.hexbin(x, y, C=c, cmap=matplotlib.colors.ListedColormap(['red']), gridsize=25, extent=(-1000, 1000, -1000, 1000))\n",
    "\n",
    "def update(frame):\n",
    "    high = dfs[frame].loc[dfs[frame]['intensity.class'] == 2]\n",
    "    x = high['x.pos.asec'].values.flatten()\n",
    "    y = high['y.pos.asec'].values.flatten()\n",
    "    c = high['intensity.class'].values.flatten()\n",
    "    \n",
    "    ax.clear()\n",
    "    plt.suptitle('Time Series for High Intensity Hotspots (2004-2005)')\n",
    "    ax.set_xlim(-1100, 1100)\n",
    "    ax.set_ylim(-1100, 1100)\n",
    "    ax.set_title(dates[frame])\n",
    "    ax.imshow(img, extent=[-1100, 1100, -1100, 1100])\n",
    "    hex = plt.hexbin(x, y, C=c, cmap=matplotlib.colors.ListedColormap(['red']), gridsize=25, extent=(-1000, 1000, -1000, 1000))\n",
    "\n",
    "    return hex,\n",
    "\n",
    "ani = animation.FuncAnimation(fig, update, frames=11, blit=True)\n",
    "writer = animation.PillowWriter(fps=1, metadata=dict(artist='Machine Learning Mavericks'), bitrate=1800)\n",
    "ani.save('./output/time_series_high.gif', writer=writer)\n",
    "plt.show()"
   ]
  }
 ],
 "metadata": {
  "kernelspec": {
   "display_name": ".venv",
   "language": "python",
   "name": "python3"
  },
  "language_info": {
   "codemirror_mode": {
    "name": "ipython",
    "version": 3
   },
   "file_extension": ".py",
   "mimetype": "text/x-python",
   "name": "python",
   "nbconvert_exporter": "python",
   "pygments_lexer": "ipython3",
   "version": "3.12.0"
  }
 },
 "nbformat": 4,
 "nbformat_minor": 2
}
