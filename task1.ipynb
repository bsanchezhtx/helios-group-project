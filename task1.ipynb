{
 "cells": [
  {
   "cell_type": "markdown",
   "metadata": {},
   "source": [
    "# Packages & Imports"
   ]
  },
  {
   "cell_type": "code",
   "execution_count": null,
   "metadata": {},
   "outputs": [],
   "source": [
    "!python -m pip install pandas\n",
    "!python -m pip install numpy\n",
    "!python -m pip install matplotlib\n",
    "!python -m pip install seaborn\n",
    "!python -m pip install scipy"
   ]
  },
  {
   "cell_type": "code",
   "execution_count": 1,
   "metadata": {},
   "outputs": [],
   "source": [
    "import pandas as pd\n",
    "import numpy as np\n",
    "import matplotlib.pyplot as plt\n",
    "import seaborn as sns\n",
    "from scipy import stats"
   ]
  },
  {
   "cell_type": "markdown",
   "metadata": {},
   "source": [
    "# Loading Data and Subdividing into Smaller Batches"
   ]
  },
  {
   "cell_type": "code",
   "execution_count": 2,
   "metadata": {},
   "outputs": [],
   "source": [
    "# reading the 04-05 data from the csv\n",
    "df = pd.read_csv('dataset/Solar_flare_RHESSI_2004_05.csv')\n",
    "\n",
    "# changing the month values for the year 2005 (1 = 13, 2 = 14, etc.) to make subdivision simpler later on\n",
    "# in rows where the year value is 2005, add 12 to the month value and replace the old month value\n",
    "df['month'] = np.where((df['year'] == 2005), df['month'] + 12, df['month'])\n",
    "\n",
    "# list that will hold sets of 4 with a two month overlap\n",
    "dfs = []\n",
    "\n",
    "# grouping the data frame by month nummber\n",
    "df_m = df.groupby(['month'])\n",
    "\n",
    "# looping starting at i = 4, in steps of 2, while i < 25\n",
    "# creates an overlap of two months between subsets\n",
    "for i in range(4, 25, 2):\n",
    "    # get groups for i - 3th, i - 2th, i - 1th, and ith months, \n",
    "    # concatenate them into a single data frame, then append this to the dfs list\n",
    "    dfs.append(pd.concat([df_m.get_group(i - 3), df_m.get_group(i - 2), df_m.get_group(i - 1), df_m.get_group(i)]))\n",
    "\n",
    "# x and y limits for the entire dataset to be used in plotting\n",
    "x_min = df['x.pos.asec'].min()\n",
    "x_max = df['x.pos.asec'].max()\n",
    "y_min = df['y.pos.asec'].min()\n",
    "y_max = df['y.pos.asec'].max()"
   ]
  },
  {
   "cell_type": "markdown",
   "metadata": {},
   "source": [
    "# Intensity Estimation"
   ]
  },
  {
   "cell_type": "markdown",
   "metadata": {},
   "source": [
    "## Method 1: Intensity Based on `total.counts`"
   ]
  },
  {
   "cell_type": "code",
   "execution_count": null,
   "metadata": {},
   "outputs": [],
   "source": [
    "def intensity_estimation_frequency(data, plot=False, levels=10):\n",
    "    # getting the x, y, and total.counts values in numpy arrays\n",
    "    x = data['x.pos.asec'].values.flatten()\n",
    "    y = data['y.pos.asec'].values.flatten()\n",
    "    counts = data['total.counts'].values.flatten()\n",
    "    \n",
    "    if plot:\n",
    "        # new matplotlib figure\n",
    "        fig, ax = plt.subplots()\n",
    "\n",
    "        # seaborn kde plot, uses scipy gaussian_kde underneath\n",
    "        sns.kdeplot(data=data, x='x.pos.asec', y='y.pos.asec', \n",
    "                           weights='total.counts', fill=True, levels=levels, \n",
    "                           thresh=0, cmap='magma', cbar=True, ax=ax)\n",
    "        \n",
    "        # Setting the background color of the plot \n",
    "        # using set_facecolor() method\n",
    "        ax.set_facecolor(\"black\")\n",
    "\n",
    "        # getting colorbar\n",
    "        cb = ax.collections[-1].colorbar\n",
    "        \n",
    "        # color bar label\n",
    "        cb.set_label('Intensity')\n",
    "\n",
    "        # retrieving the tick values for the colorbar, can be used as threshold values \n",
    "        ticks = cb.get_ticks()\n",
    "\n",
    "        # adjusting domain and range\n",
    "        ax.set_xlim(x_min - 100, x_max + 100)\n",
    "        ax.set_ylim(y_min - 100, y_max + 100)\n",
    "\n",
    "\n",
    "        # plotting the scatterplot on top of the kde plot\n",
    "        plt.scatter(x, y, s=0.5, facecolor='white')\n",
    "\n",
    "        # title\n",
    "        ax.set_title(f\"Solar Flare Intensity Method 1 for Months {data['month'].min()}-{data['month'].max()}\")\n",
    "        \n",
    "        # saving the figure to the output folder\n",
    "        date_range = f\"{data['year'].iloc[0]}_{data['month'].min()}-{data['month'].max()}\"\n",
    "        plt.savefig(f\"./output/intensity_frequency_{date_range}.png\")\n",
    "\n",
    "        # return the values for the contours, which can serve as threshold values for hotspot analysis\n",
    "        return ticks\n",
    "    else:\n",
    "        # data from the subset to be passed to gaussian kernel\n",
    "        training_locations = np.vstack([x, y])\n",
    "\n",
    "        # gaussian kernel, bandwidth using \"scott's rule\", using the total.counts attribute as weights\n",
    "        kde = stats.gaussian_kde(training_locations, bw_method='scott', weights=counts.T)\n",
    "\n",
    "        # returning the intensity values for each location\n",
    "        return kde.evaluate(training_locations)\n",
    "    \n",
    "# performing the intesity estimation on months 1-4 and 21-24\n",
    "s1 = dfs[0]\n",
    "s2 = dfs[-1]\n",
    "\n",
    "a = intensity_estimation_frequency(s1, plot=True, levels=100)\n",
    "b = intensity_estimation_frequency(s2, plot=True, levels=100)"
   ]
  },
  {
   "cell_type": "markdown",
   "metadata": {},
   "source": [
    "## Method 2: Intensity Based on `duration.s` and `energy.kev`"
   ]
  },
  {
   "cell_type": "code",
   "execution_count": null,
   "metadata": {},
   "outputs": [],
   "source": [
    "def map_and_normalize(data):\n",
    "    # maps energy band to average energy\n",
    "    energy_band_mapping = {    \n",
    "        '6-12': 9,\n",
    "        '12-25': 18.5,\n",
    "        '25-50': 37.5,\n",
    "        '50-100': 75,\n",
    "        '100-300': 200,\n",
    "        '300-800': 550,\n",
    "        '800-7000': 3900,\n",
    "        '7000-20000': 13500\n",
    "    }\n",
    "\n",
    "    # new column from mapping\n",
    "    data['energy.median.kev'] = data['energy.kev'].map(energy_band_mapping)\n",
    "\n",
    "    # retrieving max duration and max energy value\n",
    "    max_duration = data['duration.s'].max()\n",
    "    max_energy = data['energy.median.kev'].max()\n",
    "\n",
    "    # normalizing columns\n",
    "    data['normalized.duration'] = data['duration.s'] / max_duration\n",
    "    data['normalized.energy'] = data['energy.median.kev'] / max_energy\n",
    "\n",
    "    # calculating intensity based on duration * average energy of band\n",
    "    data['intensity.method.2'] = data['normalized.duration'] * data['normalized.energy']\n",
    "\n",
    "    # returning the modified data frame\n",
    "    return data"
   ]
  },
  {
   "cell_type": "code",
   "execution_count": null,
   "metadata": {},
   "outputs": [],
   "source": [
    "def intensity_estimation_energy(data, plot=False, levels=10):\n",
    "    # energy-based intensity data\n",
    "    intensity = data['intensity.method.2'].values.flatten()\n",
    "    # x and y values\n",
    "    x = data['x.pos.asec'].values.flatten()\n",
    "    y = data['y.pos.asec'].values.flatten()\n",
    "\n",
    "    if plot:\n",
    "        # new matplotlib figure\n",
    "        fig, ax = plt.subplots()\n",
    "        \n",
    "        # seaborn kde plot, uses scipy gaussian_kde underneath\n",
    "        ax = sns.kdeplot(data=data, x='x.pos.asec', y='y.pos.asec', \n",
    "                           weights='intensity.method.2', fill=True, levels=levels, \n",
    "                           thresh=0, cmap='magma', cbar=True, bw_method='scott')\n",
    "\n",
    "        # Setting the background color of the plot \n",
    "        # using set_facecolor() method\n",
    "        ax.set_facecolor(\"black\")\n",
    "\n",
    "        # adjusting domain and range\n",
    "        plt.xlim(x_min - 100, x_max + 100)\n",
    "        plt.ylim(y_min - 100, y_max + 100)\n",
    "\n",
    "        # color bar and label\n",
    "        cb = ax.collections[-1].colorbar\n",
    "        cb.set_label('Mean Intensity')\n",
    "\n",
    "        # plotting the scatterplot on top of the kde plot\n",
    "        plt.scatter(x, y, s=0.2, facecolor='white')\n",
    "\n",
    "        ax.set_title(f\"Solar Flare Intensity Method 2 for Months {data['month'].min()}-{data['month'].max()}\")\n",
    "        date_range = f\"{data['year'].iloc[0]}_{data['month'].min()}-{data['month'].max()}\"\n",
    "        plt.savefig(f\"./output/intensity_energy_{date_range}.png\")\n",
    "        plt.show()\n",
    "\n",
    "        return fig, ax\n",
    "    else:\n",
    "        return intensity\n",
    "\n",
    "# plotting for months 1-4 and 21-24\n",
    "s1 = map_and_normalize(dfs[0])\n",
    "s2 = map_and_normalize(dfs[-1])\n",
    "\n",
    "a, b = intensity_estimation_energy(s1, plot=True, levels=100)\n",
    "c, d = intensity_estimation_energy(s2, plot=True, levels=100)"
   ]
  }
 ],
 "metadata": {
  "kernelspec": {
   "display_name": ".venv",
   "language": "python",
   "name": "python3"
  },
  "language_info": {
   "codemirror_mode": {
    "name": "ipython",
    "version": 3
   },
   "file_extension": ".py",
   "mimetype": "text/x-python",
   "name": "python",
   "nbconvert_exporter": "python",
   "pygments_lexer": "ipython3",
   "version": "3.12.0"
  }
 },
 "nbformat": 4,
 "nbformat_minor": 2
}
