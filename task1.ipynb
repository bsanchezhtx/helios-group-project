{
 "cells": [
  {
   "cell_type": "markdown",
   "metadata": {},
   "source": [
    "# Packages & Imports"
   ]
  },
  {
   "cell_type": "code",
   "execution_count": null,
   "metadata": {},
   "outputs": [],
   "source": [
    "!python -m pip install pandas\n",
    "!python -m pip install numpy"
   ]
  },
  {
   "cell_type": "code",
   "execution_count": null,
   "metadata": {},
   "outputs": [],
   "source": [
    "import pandas as pd\n",
    "import numpy as np"
   ]
  },
  {
   "cell_type": "markdown",
   "metadata": {},
   "source": [
    "# Loading Data and Subdividing into Smaller Batches"
   ]
  },
  {
   "cell_type": "code",
   "execution_count": null,
   "metadata": {},
   "outputs": [],
   "source": [
    "# reading the 04-05 data from the csv\n",
    "df = pd.read_csv('dataset/Solar_flare_RHESSI_2004_05.csv')\n",
    "\n",
    "# changing the month values for the year 2005 (1 = 13, 2 = 14, etc.) to make subdivision simpler later on\n",
    "# in rows where the year value is 2005, add 12 to the month value and replace the old month value\n",
    "df['month'] = np.where((df['year'] == 2005), df['month'] + 12, df['month'])\n",
    "\n",
    "# verify by checking the last 5 rows of the data (year/month should be 2005, 24)\n",
    "df.tail()"
   ]
  },
  {
   "cell_type": "code",
   "execution_count": 39,
   "metadata": {},
   "outputs": [],
   "source": [
    "# list that will hold sets of 4 with a two month overlap\n",
    "dfs = []\n",
    "\n",
    "# grouping the data frame by month nummber\n",
    "df_m = df.groupby(['month'])\n",
    "\n",
    "# looping starting at i = 4, in steps of 2, while i < 25\n",
    "for i in range(4, 25, 2):\n",
    "    # get groups for i - 3th, i - 2th, i - 1th, and ith months, concatenate them into a single data frame, then append this to the dfs list\n",
    "    dfs.append(pd.concat([df_m.get_group(i - 3), df_m.get_group(i - 2), df_m.get_group(i - 1), df_m.get_group(i)]))\n"
   ]
  },
  {
   "cell_type": "markdown",
   "metadata": {},
   "source": [
    "# Method 1: Intensity Based on `total.counts`"
   ]
  },
  {
   "cell_type": "code",
   "execution_count": null,
   "metadata": {},
   "outputs": [],
   "source": []
  },
  {
   "cell_type": "markdown",
   "metadata": {},
   "source": [
    "# Method 2: Intensity Based on `duration.s` and `energy.kev`"
   ]
  },
  {
   "cell_type": "code",
   "execution_count": null,
   "metadata": {},
   "outputs": [],
   "source": []
  }
 ],
 "metadata": {
  "kernelspec": {
   "display_name": ".venv",
   "language": "python",
   "name": "python3"
  },
  "language_info": {
   "codemirror_mode": {
    "name": "ipython",
    "version": 3
   },
   "file_extension": ".py",
   "mimetype": "text/x-python",
   "name": "python",
   "nbconvert_exporter": "python",
   "pygments_lexer": "ipython3",
   "version": "3.12.0"
  }
 },
 "nbformat": 4,
 "nbformat_minor": 2
}
